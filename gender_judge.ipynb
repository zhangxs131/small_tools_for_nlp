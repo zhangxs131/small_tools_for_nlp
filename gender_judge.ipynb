{
  "nbformat": 4,
  "nbformat_minor": 0,
  "metadata": {
    "colab": {
      "name": "gender_judge.ipynb",
      "provenance": [],
      "collapsed_sections": [],
      "authorship_tag": "ABX9TyM6Io/f1sLtmyPLhJvgSnWr",
      "include_colab_link": true
    },
    "kernelspec": {
      "name": "python3",
      "display_name": "Python 3"
    },
    "language_info": {
      "name": "python"
    }
  },
  "cells": [
    {
      "cell_type": "markdown",
      "metadata": {
        "id": "view-in-github",
        "colab_type": "text"
      },
      "source": [
        "<a href=\"https://colab.research.google.com/github/zhangxs131/small_tools_for_nlp/blob/main/gender_judge.ipynb\" target=\"_parent\"><img src=\"https://colab.research.google.com/assets/colab-badge.svg\" alt=\"Open In Colab\"/></a>"
      ]
    },
    {
      "cell_type": "markdown",
      "source": [
        "#根据名字判别性别\n",
        "\n",
        "这里使用作者数据集，源项目地址为 \n",
        "\n",
        "https://github.com/observerss/ngender\n",
        "\n",
        "但作者没有给出源数据集，给出的数据集为单个汉字在男女名字中出现次数，所以本来想使用1-2gram进行改进也不行了。\n",
        "\n",
        "这里还将总人数直接按照名字出现male，female次数相加得到，也不准确，总体还凑合吧。"
      ],
      "metadata": {
        "id": "U6W0D07n0FKv"
      }
    },
    {
      "cell_type": "code",
      "execution_count": 6,
      "metadata": {
        "colab": {
          "base_uri": "https://localhost:8080/"
        },
        "id": "ofHudZqbz8W9",
        "outputId": "34ed771a-bbd8-47e2-d833-be3df8448706"
      },
      "outputs": [
        {
          "output_type": "stream",
          "name": "stdout",
          "text": [
            "--2022-04-20 11:58:51--  https://raw.githubusercontent.com/observerss/ngender/master/ngender/charfreq.csv\n",
            "Resolving raw.githubusercontent.com (raw.githubusercontent.com)... 185.199.108.133, 185.199.109.133, 185.199.110.133, ...\n",
            "Connecting to raw.githubusercontent.com (raw.githubusercontent.com)|185.199.108.133|:443... connected.\n",
            "HTTP request sent, awaiting response... 200 OK\n",
            "Length: 90935 (89K) [text/plain]\n",
            "Saving to: ‘charfreq.csv’\n",
            "\n",
            "\rcharfreq.csv          0%[                    ]       0  --.-KB/s               \rcharfreq.csv        100%[===================>]  88.80K  --.-KB/s    in 0.01s   \n",
            "\n",
            "2022-04-20 11:58:51 (6.47 MB/s) - ‘charfreq.csv’ saved [90935/90935]\n",
            "\n"
          ]
        }
      ],
      "source": [
        "!wget https://raw.githubusercontent.com/observerss/ngender/master/ngender/charfreq.csv"
      ]
    },
    {
      "cell_type": "code",
      "source": [
        "import pandas as pd\n",
        "\n",
        "df=pd.read_csv('charfreq.csv')\n",
        "df.head(5)"
      ],
      "metadata": {
        "colab": {
          "base_uri": "https://localhost:8080/",
          "height": 206
        },
        "id": "mhEi0U3801al",
        "outputId": "8c5a1a5b-73b7-4ecd-d943-20b35c2e6288"
      },
      "execution_count": 7,
      "outputs": [
        {
          "output_type": "execute_result",
          "data": {
            "text/plain": [
              "  char    male  female\n",
              "0    明  378860   63221\n",
              "1    伟  378757   51232\n",
              "2    军  378096   29518\n",
              "3    建  366515   51477\n",
              "4    华  344928  174529"
            ],
            "text/html": [
              "\n",
              "  <div id=\"df-2399e44b-1597-4c2c-be6e-612b4de4e4be\">\n",
              "    <div class=\"colab-df-container\">\n",
              "      <div>\n",
              "<style scoped>\n",
              "    .dataframe tbody tr th:only-of-type {\n",
              "        vertical-align: middle;\n",
              "    }\n",
              "\n",
              "    .dataframe tbody tr th {\n",
              "        vertical-align: top;\n",
              "    }\n",
              "\n",
              "    .dataframe thead th {\n",
              "        text-align: right;\n",
              "    }\n",
              "</style>\n",
              "<table border=\"1\" class=\"dataframe\">\n",
              "  <thead>\n",
              "    <tr style=\"text-align: right;\">\n",
              "      <th></th>\n",
              "      <th>char</th>\n",
              "      <th>male</th>\n",
              "      <th>female</th>\n",
              "    </tr>\n",
              "  </thead>\n",
              "  <tbody>\n",
              "    <tr>\n",
              "      <th>0</th>\n",
              "      <td>明</td>\n",
              "      <td>378860</td>\n",
              "      <td>63221</td>\n",
              "    </tr>\n",
              "    <tr>\n",
              "      <th>1</th>\n",
              "      <td>伟</td>\n",
              "      <td>378757</td>\n",
              "      <td>51232</td>\n",
              "    </tr>\n",
              "    <tr>\n",
              "      <th>2</th>\n",
              "      <td>军</td>\n",
              "      <td>378096</td>\n",
              "      <td>29518</td>\n",
              "    </tr>\n",
              "    <tr>\n",
              "      <th>3</th>\n",
              "      <td>建</td>\n",
              "      <td>366515</td>\n",
              "      <td>51477</td>\n",
              "    </tr>\n",
              "    <tr>\n",
              "      <th>4</th>\n",
              "      <td>华</td>\n",
              "      <td>344928</td>\n",
              "      <td>174529</td>\n",
              "    </tr>\n",
              "  </tbody>\n",
              "</table>\n",
              "</div>\n",
              "      <button class=\"colab-df-convert\" onclick=\"convertToInteractive('df-2399e44b-1597-4c2c-be6e-612b4de4e4be')\"\n",
              "              title=\"Convert this dataframe to an interactive table.\"\n",
              "              style=\"display:none;\">\n",
              "        \n",
              "  <svg xmlns=\"http://www.w3.org/2000/svg\" height=\"24px\"viewBox=\"0 0 24 24\"\n",
              "       width=\"24px\">\n",
              "    <path d=\"M0 0h24v24H0V0z\" fill=\"none\"/>\n",
              "    <path d=\"M18.56 5.44l.94 2.06.94-2.06 2.06-.94-2.06-.94-.94-2.06-.94 2.06-2.06.94zm-11 1L8.5 8.5l.94-2.06 2.06-.94-2.06-.94L8.5 2.5l-.94 2.06-2.06.94zm10 10l.94 2.06.94-2.06 2.06-.94-2.06-.94-.94-2.06-.94 2.06-2.06.94z\"/><path d=\"M17.41 7.96l-1.37-1.37c-.4-.4-.92-.59-1.43-.59-.52 0-1.04.2-1.43.59L10.3 9.45l-7.72 7.72c-.78.78-.78 2.05 0 2.83L4 21.41c.39.39.9.59 1.41.59.51 0 1.02-.2 1.41-.59l7.78-7.78 2.81-2.81c.8-.78.8-2.07 0-2.86zM5.41 20L4 18.59l7.72-7.72 1.47 1.35L5.41 20z\"/>\n",
              "  </svg>\n",
              "      </button>\n",
              "      \n",
              "  <style>\n",
              "    .colab-df-container {\n",
              "      display:flex;\n",
              "      flex-wrap:wrap;\n",
              "      gap: 12px;\n",
              "    }\n",
              "\n",
              "    .colab-df-convert {\n",
              "      background-color: #E8F0FE;\n",
              "      border: none;\n",
              "      border-radius: 50%;\n",
              "      cursor: pointer;\n",
              "      display: none;\n",
              "      fill: #1967D2;\n",
              "      height: 32px;\n",
              "      padding: 0 0 0 0;\n",
              "      width: 32px;\n",
              "    }\n",
              "\n",
              "    .colab-df-convert:hover {\n",
              "      background-color: #E2EBFA;\n",
              "      box-shadow: 0px 1px 2px rgba(60, 64, 67, 0.3), 0px 1px 3px 1px rgba(60, 64, 67, 0.15);\n",
              "      fill: #174EA6;\n",
              "    }\n",
              "\n",
              "    [theme=dark] .colab-df-convert {\n",
              "      background-color: #3B4455;\n",
              "      fill: #D2E3FC;\n",
              "    }\n",
              "\n",
              "    [theme=dark] .colab-df-convert:hover {\n",
              "      background-color: #434B5C;\n",
              "      box-shadow: 0px 1px 3px 1px rgba(0, 0, 0, 0.15);\n",
              "      filter: drop-shadow(0px 1px 2px rgba(0, 0, 0, 0.3));\n",
              "      fill: #FFFFFF;\n",
              "    }\n",
              "  </style>\n",
              "\n",
              "      <script>\n",
              "        const buttonEl =\n",
              "          document.querySelector('#df-2399e44b-1597-4c2c-be6e-612b4de4e4be button.colab-df-convert');\n",
              "        buttonEl.style.display =\n",
              "          google.colab.kernel.accessAllowed ? 'block' : 'none';\n",
              "\n",
              "        async function convertToInteractive(key) {\n",
              "          const element = document.querySelector('#df-2399e44b-1597-4c2c-be6e-612b4de4e4be');\n",
              "          const dataTable =\n",
              "            await google.colab.kernel.invokeFunction('convertToInteractive',\n",
              "                                                     [key], {});\n",
              "          if (!dataTable) return;\n",
              "\n",
              "          const docLinkHtml = 'Like what you see? Visit the ' +\n",
              "            '<a target=\"_blank\" href=https://colab.research.google.com/notebooks/data_table.ipynb>data table notebook</a>'\n",
              "            + ' to learn more about interactive tables.';\n",
              "          element.innerHTML = '';\n",
              "          dataTable['output_type'] = 'display_data';\n",
              "          await google.colab.output.renderOutput(dataTable, element);\n",
              "          const docLink = document.createElement('div');\n",
              "          docLink.innerHTML = docLinkHtml;\n",
              "          element.appendChild(docLink);\n",
              "        }\n",
              "      </script>\n",
              "    </div>\n",
              "  </div>\n",
              "  "
            ]
          },
          "metadata": {},
          "execution_count": 7
        }
      ]
    },
    {
      "cell_type": "code",
      "source": [
        "sum={'male':df['male'].sum(),'female':df['female'].sum()}\n",
        "sum"
      ],
      "metadata": {
        "colab": {
          "base_uri": "https://localhost:8080/"
        },
        "id": "-FmH6W1U5LPb",
        "outputId": "eb7df0ae-c389-4a19-b42d-1dd3a3ac4ab7"
      },
      "execution_count": 12,
      "outputs": [
        {
          "output_type": "execute_result",
          "data": {
            "text/plain": [
              "{'female': 10787021, 'male': 21280545}"
            ]
          },
          "metadata": {},
          "execution_count": 12
        }
      ]
    },
    {
      "cell_type": "code",
      "source": [
        "text='小明'\n",
        "\n",
        "for i in text:\n",
        "  print(df['female'][df['char']==i].iloc[0])"
      ],
      "metadata": {
        "colab": {
          "base_uri": "https://localhost:8080/"
        },
        "id": "V82EKafM_xCN",
        "outputId": "64e782ad-2151-499f-e795-fb9d3d350b95"
      },
      "execution_count": 66,
      "outputs": [
        {
          "output_type": "stream",
          "name": "stdout",
          "text": [
            "120069\n",
            "63221\n"
          ]
        }
      ]
    },
    {
      "cell_type": "code",
      "source": [
        "#这里使用朴素贝叶斯计算概率\n",
        "def prob_for_gender(firstname, gender='male'):\n",
        "  t=(sum['male']+sum['female']) \n",
        "  p = 1. * sum[gender]/t  \n",
        "\n",
        "  for char in firstname:\n",
        "    a=df[gender][df['char']==char].iloc[0]\n",
        "    p *= a/sum[gender]\n",
        "\n",
        "  return p\n",
        "\n",
        "def guess(name):\n",
        "  firstname = name[1:]\n",
        "  for char in firstname:\n",
        "    assert u'\\u4e00' <= char <= u'\\u9fa0', u'姓名必须为中文'\n",
        "  \n",
        "  pf = prob_for_gender(firstname,'female')\n",
        "  pm = prob_for_gender(firstname,'male')\n",
        "\n",
        "\n",
        "  if pm > pf:\n",
        "    return ('male', 1. * pm / (pm + pf))\n",
        "  elif pm < pf:\n",
        "    return ('female', 1. * pf / (pm + pf))\n",
        "  else:\n",
        "    return ('unknown', 0)"
      ],
      "metadata": {
        "id": "wwQqx9CW125A"
      },
      "execution_count": 87,
      "outputs": []
    },
    {
      "cell_type": "code",
      "source": [
        "guess('张晓松')"
      ],
      "metadata": {
        "colab": {
          "base_uri": "https://localhost:8080/"
        },
        "id": "WzaPPEQ16ijl",
        "outputId": "8cc3f0b8-564a-498e-b447-d7f4ca91b396"
      },
      "execution_count": 88,
      "outputs": [
        {
          "output_type": "execute_result",
          "data": {
            "text/plain": [
              "('male', 0.8404324443331157)"
            ]
          },
          "metadata": {},
          "execution_count": 88
        }
      ]
    },
    {
      "cell_type": "code",
      "source": [
        "guess('刘琦')"
      ],
      "metadata": {
        "colab": {
          "base_uri": "https://localhost:8080/"
        },
        "id": "6aSzsIIOB68j",
        "outputId": "51078fbb-a414-4682-b266-394b2f4b5878"
      },
      "execution_count": 89,
      "outputs": [
        {
          "output_type": "execute_result",
          "data": {
            "text/plain": [
              "('male', 0.5768939671378696)"
            ]
          },
          "metadata": {},
          "execution_count": 89
        }
      ]
    },
    {
      "cell_type": "code",
      "source": [
        "guess('张小明')"
      ],
      "metadata": {
        "colab": {
          "base_uri": "https://localhost:8080/"
        },
        "id": "btjMUlg8B9Rm",
        "outputId": "e041d82a-cfac-4a2d-a4d2-b4579fed6e63"
      },
      "execution_count": 90,
      "outputs": [
        {
          "output_type": "execute_result",
          "data": {
            "text/plain": [
              "('male', 0.776631528500599)"
            ]
          },
          "metadata": {},
          "execution_count": 90
        }
      ]
    },
    {
      "cell_type": "code",
      "source": [
        "guess(\"张宛若\")"
      ],
      "metadata": {
        "colab": {
          "base_uri": "https://localhost:8080/"
        },
        "id": "h0I7icsHChtl",
        "outputId": "c2c266c2-37b7-451b-883a-e4ba1d3d26d2"
      },
      "execution_count": 91,
      "outputs": [
        {
          "output_type": "execute_result",
          "data": {
            "text/plain": [
              "('female', 0.8456031689879948)"
            ]
          },
          "metadata": {},
          "execution_count": 91
        }
      ]
    },
    {
      "cell_type": "code",
      "source": [
        "guess('赵本山')"
      ],
      "metadata": {
        "colab": {
          "base_uri": "https://localhost:8080/"
        },
        "id": "mc0Xv2RqCkVU",
        "outputId": "6bdeab4f-a88f-485a-a581-d47e019c1abd"
      },
      "execution_count": 92,
      "outputs": [
        {
          "output_type": "execute_result",
          "data": {
            "text/plain": [
              "('male', 0.9836229687547046)"
            ]
          },
          "metadata": {},
          "execution_count": 92
        }
      ]
    },
    {
      "cell_type": "code",
      "source": [
        "guess('宋丹丹')"
      ],
      "metadata": {
        "colab": {
          "base_uri": "https://localhost:8080/"
        },
        "id": "8Ez7EFupCmlG",
        "outputId": "ec438a09-c1b8-4aaa-e4a0-7b04f474224d"
      },
      "execution_count": 93,
      "outputs": [
        {
          "output_type": "execute_result",
          "data": {
            "text/plain": [
              "('female', 0.9759486128949907)"
            ]
          },
          "metadata": {},
          "execution_count": 93
        }
      ]
    },
    {
      "cell_type": "code",
      "source": [
        "guess('范冰冰')"
      ],
      "metadata": {
        "colab": {
          "base_uri": "https://localhost:8080/"
        },
        "id": "xngIJCwOCp4g",
        "outputId": "0b7ff62e-28ce-460d-d1b4-4e9cfa80d3de"
      },
      "execution_count": 94,
      "outputs": [
        {
          "output_type": "execute_result",
          "data": {
            "text/plain": [
              "('female', 0.6241854276885191)"
            ]
          },
          "metadata": {},
          "execution_count": 94
        }
      ]
    },
    {
      "cell_type": "code",
      "source": [
        "guess('杨一')"
      ],
      "metadata": {
        "colab": {
          "base_uri": "https://localhost:8080/"
        },
        "id": "l6h17fyJCr3L",
        "outputId": "33267b50-7a3a-4b5c-a20f-5995df63fd90"
      },
      "execution_count": 95,
      "outputs": [
        {
          "output_type": "execute_result",
          "data": {
            "text/plain": [
              "('male', 0.7450759960428096)"
            ]
          },
          "metadata": {},
          "execution_count": 95
        }
      ]
    },
    {
      "cell_type": "code",
      "source": [
        "guess('石少丽')"
      ],
      "metadata": {
        "colab": {
          "base_uri": "https://localhost:8080/"
        },
        "id": "JuswNoiLCufB",
        "outputId": "94be4874-0b7d-45ba-a5e7-81d941b42596"
      },
      "execution_count": 96,
      "outputs": [
        {
          "output_type": "execute_result",
          "data": {
            "text/plain": [
              "('female', 0.8636462271424227)"
            ]
          },
          "metadata": {},
          "execution_count": 96
        }
      ]
    }
  ]
}