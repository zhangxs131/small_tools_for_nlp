{
  "nbformat": 4,
  "nbformat_minor": 0,
  "metadata": {
    "colab": {
      "name": "1.textfilter.ipynb",
      "provenance": [],
      "collapsed_sections": [],
      "authorship_tag": "ABX9TyO5BRFr985dvqzb590iBPBT",
      "include_colab_link": true
    },
    "kernelspec": {
      "name": "python3",
      "display_name": "Python 3"
    },
    "language_info": {
      "name": "python"
    }
  },
  "cells": [
    {
      "cell_type": "markdown",
      "metadata": {
        "id": "view-in-github",
        "colab_type": "text"
      },
      "source": [
        "<a href=\"https://colab.research.google.com/github/zhangxs131/small_tools_for_nlp/blob/main/1__textfilter.ipynb\" target=\"_parent\"><img src=\"https://colab.research.google.com/assets/colab-badge.svg\" alt=\"Open In Colab\"/></a>"
      ]
    },
    {
      "cell_type": "markdown",
      "source": [
        "##过滤敏感词\n",
        "\n",
        "源项目地址： https://github.com/observerss/textfilter\n",
        "\n",
        "他12年写的代码，很老了，还使用的python2,我这里改成了python3"
      ],
      "metadata": {
        "id": "dHnHD-VupGVt"
      }
    },
    {
      "cell_type": "code",
      "execution_count": 24,
      "metadata": {
        "id": "f-c-cJIBpAfd"
      },
      "outputs": [],
      "source": [
        "from collections import defaultdict\n",
        "import re\n",
        "\n",
        "__all__ = ['NaiveFilter', 'BSFilter', 'DFAFilter']"
      ]
    },
    {
      "cell_type": "code",
      "source": [
        "#普通过滤，首先从文件读取读取敏感词文件，每个一行，然后对分好词的语句进行替换\n",
        "class NaiveFilter():\n",
        "  def __init__(self):\n",
        "    self.keywords=set([])\n",
        "\n",
        "  def parse(self,path):\n",
        "    for keyword in open(path):\n",
        "      if not isinstance(keyword, str):\n",
        "         keyword = keyword.decode('utf-8')\n",
        "      self.keywords.add(keyword.strip().lower())\n",
        "\n",
        "  def filter(self,message,repl='*'):\n",
        "    message=str(message).lower()\n",
        "    for kw in self.keywords:\n",
        "      message=message.replace(kw,repl)\n",
        "\n",
        "    return message"
      ],
      "metadata": {
        "id": "f3QmkbqRtPER"
      },
      "execution_count": null,
      "outputs": []
    },
    {
      "cell_type": "code",
      "source": [
        "filter_words=['fuck','bitch','shit','sex']\n",
        "filter_words_zh=['傻逼','操','你妈的','滚']\n",
        "\n",
        "with open('filter.txt','w') as f:\n",
        "  f.writelines([i+'\\n' for i in filter_words])\n",
        "\n",
        "with open('filter_zh.txt','w') as f:\n",
        "  f.writelines([i+'\\n' for i in filter_words_zh])"
      ],
      "metadata": {
        "id": "AB6TZdDHtSMl"
      },
      "execution_count": 18,
      "outputs": []
    },
    {
      "cell_type": "code",
      "source": [
        "f=NaiveFilter()\n",
        "f.parse('filter.txt')\n",
        "print(f.filter('fuck  you，bitch'))\n",
        "\n",
        "f.parse('filter_zh.txt')\n",
        "print(f.filter('你是傻逼吧，操！'))"
      ],
      "metadata": {
        "colab": {
          "base_uri": "https://localhost:8080/"
        },
        "id": "H86YXakqr4IJ",
        "outputId": "64a32ecd-559b-46ed-f8d5-e1c58a64025f"
      },
      "execution_count": 20,
      "outputs": [
        {
          "output_type": "stream",
          "name": "stdout",
          "text": [
            "*  you，*\n",
            "你是*吧，*！\n"
          ]
        }
      ]
    }
  ]
}